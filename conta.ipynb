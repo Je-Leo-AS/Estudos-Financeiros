{
 "cells": [
  {
   "cell_type": "code",
   "execution_count": 4,
   "metadata": {},
   "outputs": [
    {
     "name": "stdout",
     "output_type": "stream",
     "text": [
      "TerminalInfo(community_account=True, community_connection=False, connected=True, dlls_allowed=True, trade_allowed=True, tradeapi_disabled=False, email_enabled=False, ftp_enabled=False, notifications_enabled=False, mqid=False, build=4524, maxbars=100000, codepage=1252, ping_last=14823, community_balance=0.0, retransmission=0.0, company='Clear (XP Investimentos CCTVM)', name='Clear Investimentos MT5 Terminal', language='Portuguese (Brazil)', path='C:\\\\Program Files\\\\Clear Investimentos MT5 Terminal', data_path='C:\\\\Users\\\\Je\\\\AppData\\\\Roaming\\\\MetaQuotes\\\\Terminal\\\\698B86206820B42976F30D28CAC50412', commondata_path='C:\\\\Users\\\\Je\\\\AppData\\\\Roaming\\\\MetaQuotes\\\\Terminal\\\\Common')\n",
      "(500, 4524, '6 Sep 2024')\n"
     ]
    },
    {
     "data": {
      "text/plain": [
       "True"
      ]
     },
     "execution_count": 4,
     "metadata": {},
     "output_type": "execute_result"
    }
   ],
   "source": [
    "from datetime import datetime\n",
    "import matplotlib.pyplot as plt\n",
    "import pandas as pd\n",
    "from pandas.plotting import register_matplotlib_converters\n",
    "register_matplotlib_converters()\n",
    "import MetaTrader5 as mt5\n",
    " \n",
    "# connect to MetaTrader 5\n",
    "if not mt5.initialize():\n",
    "    print(\"initialize() failed\")\n",
    "    mt5.shutdown()\n",
    " \n",
    "# request connection status and parameters\n",
    "print(mt5.terminal_info())\n",
    "# get data on MetaTrader 5 version\n",
    "print(mt5.version())\n",
    " \n",
    "# request 1000 ticks from EURAUD\n",
    "euraud_ticks = mt5.copy_ticks_from(\"EURAUD\", datetime(2020,1,28,13), 1000, mt5.COPY_TICKS_ALL)\n",
    "# request ticks from AUDUSD within 2019.04.01 13:00 - 2019.04.02 13:00\n",
    "audusd_ticks = mt5.copy_ticks_range(\"AUDUSD\", datetime(2020,1,27,13), datetime(2020,1,28,13), mt5.COPY_TICKS_ALL)\n",
    " \n",
    "# get bars from different symbols in a number of ways\n",
    "eurusd_rates = mt5.copy_rates_from(\"EURUSD\", mt5.TIMEFRAME_M1, datetime(2020,1,28,13), 1000)\n",
    "eurgbp_rates = mt5.copy_rates_from_pos(\"EURGBP\", mt5.TIMEFRAME_M1, 0, 1000)\n",
    "eurcad_rates = mt5.copy_rates_range(\"EURCAD\", mt5.TIMEFRAME_M1, datetime(2020,1,27,13), datetime(2020,1,28,13))\n",
    " \n",
    "# shut down connection to MetaTrader 5\n",
    "mt5.shutdown()\n",
    " "
   ]
  },
  {
   "cell_type": "code",
   "execution_count": 2,
   "metadata": {},
   "outputs": [
    {
     "name": "stdout",
     "output_type": "stream",
     "text": [
      "Erro ao obter dados para MRFG4\n"
     ]
    }
   ],
   "source": [
    "import MetaTrader5 as mt5\n",
    "import pandas as pd\n",
    "import mplfinance as mpf\n",
    "\n",
    "# Conectar ao MetaTrader 5\n",
    "if not mt5.initialize():\n",
    "    print(\"Falha ao inicializar o MetaTrader5\")\n",
    "    mt5.shutdown()\n",
    "\n",
    "# Definir o símbolo da ação que você quer acompanhar\n",
    "symbol = \"MRFG4\"  # Substitua pelo símbolo desejado\n",
    "\n",
    "# Definir o intervalo de tempo que deseja obter (exemplo: 1000 candles de 1 hora)\n",
    "rates = mt5.copy_rates_from_pos(symbol, mt5.TIMEFRAME_H1, 0, 1000)\n",
    "\n",
    "# Fechar a conexão com o MetaTrader5\n",
    "mt5.shutdown()\n",
    "\n",
    "# Verificar se a ação foi obtida corretamente\n",
    "if rates is None:\n",
    "    print(f\"Erro ao obter dados para {symbol}\")\n",
    "else:\n",
    "    # Converter os dados para um DataFrame\n",
    "    rates_frame = pd.DataFrame(rates)\n",
    "    rates_frame['time'] = pd.to_datetime(rates_frame['time'], unit='s')\n",
    "\n",
    "    # Renomear colunas para se adequar ao mplfinance\n",
    "    rates_frame = rates_frame.rename(columns={'time': 'Date', 'open': 'Open', 'high': 'High', 'low': 'Low', 'close': 'Close', 'tick_volume': 'Volume'})\n",
    "    rates_frame.set_index('Date', inplace=True)\n",
    "\n",
    "    # Plotar gráfico de velas\n",
    "    mpf.plot(rates_frame[:100], type='candle', style='charles', title=f'Gráfico de Candlestick {symbol}', ylabel='Preço', volume=True)"
   ]
  },
  {
   "metadata": {
    "ExecuteTime": {
     "end_time": "2024-11-23T18:20:46.930523Z",
     "start_time": "2024-11-23T18:20:46.205523Z"
    }
   },
   "cell_type": "code",
   "source": [
    "from binance.client import Client\n",
    "from dotenv import find_dotenv, load_dotenv\n",
    "import os\n",
    "# Substitua pelos valores das suas chaves\n",
    "\n",
    "load_dotenv(find_dotenv())\n",
    "api_key = os.getenv('BINANCE_API_KEY')\n",
    "api_secret = os.getenv('BINANCE_API_SECRET')\n",
    "\n",
    "# Inicialize o cliente da Binance\n",
    "client = Client(api_key, api_secret)\n",
    "\n",
    "# Exemplo: obter o saldo da conta\n",
    "def get_balance():\n",
    "    try:\n",
    "        balance = client.get_account()\n",
    "        print(\"Saldo da conta:\")\n",
    "        for asset in balance['balances']:\n",
    "            if float(asset['free']) > 0:\n",
    "                print(f\"{asset['asset']}: {asset['free']}\")\n",
    "    except Exception as e:\n",
    "        print(f\"Erro: {e}\")\n",
    "\n",
    "# Chame a função para exibir o saldo\n",
    "get_balance()"
   ],
   "outputs": [
    {
     "name": "stdout",
     "output_type": "stream",
     "text": [
      "Saldo da conta:\n",
      "BTC: 0.00078552\n"
     ]
    }
   ],
   "execution_count": 5
  }
 ],
 "metadata": {
  "kernelspec": {
   "display_name": "Python 3",
   "language": "python",
   "name": "python3"
  },
  "language_info": {
   "codemirror_mode": {
    "name": "ipython",
    "version": 3
   },
   "file_extension": ".py",
   "mimetype": "text/x-python",
   "name": "python",
   "nbconvert_exporter": "python",
   "pygments_lexer": "ipython3",
   "version": "3.12.4"
  },
  "orig_nbformat": 4
 },
 "nbformat": 4,
 "nbformat_minor": 2
}
